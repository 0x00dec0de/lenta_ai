{
 "cells": [
  {
   "cell_type": "markdown",
   "metadata": {
    "deletable": true,
    "editable": true
   },
   "source": [
    "# Предварительная обработка\n",
    "Нам понадобятся: \n",
    "* модуль `ijson` [отсюда](https://pypi.python.org/pypi/ijson) для парсинга данных в json-формате;\n",
    "* стандартный модуль `time` для того, чтобы отобрать новости за нужные нам даты."
   ]
  },
  {
   "cell_type": "code",
   "execution_count": 1,
   "metadata": {
    "collapsed": true,
    "deletable": true,
    "editable": true
   },
   "outputs": [],
   "source": [
    "import ijson\n",
    "import time"
   ]
  },
  {
   "cell_type": "markdown",
   "metadata": {
    "deletable": true,
    "editable": true
   },
   "source": [
    "В `titles` будем заносить заголовки новостей, полученные из json-файла.\n",
    "\n",
    "Также у нас есть 2 набора данных (и, соответственно 2 режима, которые определяются переменной `mode`): \"full\" - используется полный архив статей начиная с 1999 года по ноябрь 2017, \"sample\" - ограниченный набор статей для быстрых экспериментов.\n",
    "\n",
    "Архив статей подготовлен [Ильдар Габдрахманов ildarchegg](https://habrahabr.ru/users/ildarchegg/) и описан в его [статье на Хабре](https://habrahabr.ru/post/343838/). [Прямая ссылка на файл](https://drive.google.com/open?id=1NlFuOjOt0oQ9Mx70Z7ZvfOsB3-1fCALp) (1.4 Гб в архиве, >7 Гб в распакованном виде)\n",
    "\n",
    "Также выбираем период, за который мы хотим получить заголовки, и на которых будем тренировать сеть."
   ]
  },
  {
   "cell_type": "code",
   "execution_count": 2,
   "metadata": {
    "collapsed": false,
    "deletable": true,
    "editable": true
   },
   "outputs": [],
   "source": [
    "titles = []\n",
    "\n",
    "# Все статьи\n",
    "mode = \"full\"       \n",
    "\n",
    "# Выборка (~800 статей)\n",
    "# mode = \"sample\"\n",
    "\n",
    "# Все статьи с 1999 по Ноябрь 2017\n",
    "# start_date = \"1999-01-01\"\n",
    "\n",
    "# Только статьи новой редакции Ленты\n",
    "# start_date = \"2014-04-01\"\n",
    "\n",
    "# Только статьи за 2017 год\n",
    "start_date = \"2017-01-01\"\n",
    "\n",
    "basetime = time.strptime(start_date, \"%Y-%m-%d\")"
   ]
  },
  {
   "cell_type": "markdown",
   "metadata": {
    "deletable": true,
    "editable": true
   },
   "source": [
    "Парсим файл и выдергиваем те заголовки, которые попадают в нужный нам диапазон дат. Заметьте, что новости в файле не отсортированы по дате, поэтому придется пробежаться по всем записям."
   ]
  },
  {
   "cell_type": "code",
   "execution_count": 3,
   "metadata": {
    "collapsed": false,
    "deletable": true,
    "editable": true
   },
   "outputs": [],
   "source": [
    "objects = ijson.items(open('./data/lenta_'+mode+'.json', encoding='utf-8'), 'item')\n",
    "\n",
    "items = (o for o in objects)\n",
    "\n",
    "for item in items:\n",
    "    if 'datetime' in item['page'][0] and time.strptime(item['page'][0]['datetime'][:10], \"%Y-%m-%d\") > basetime:\n",
    "        titles.append(item['page'][0]['metaTitle'].lower())"
   ]
  },
  {
   "cell_type": "markdown",
   "metadata": {
    "deletable": true,
    "editable": true
   },
   "source": [
    "### Сколько получилось заголовоков?"
   ]
  },
  {
   "cell_type": "code",
   "execution_count": 4,
   "metadata": {
    "collapsed": false,
    "deletable": true,
    "editable": true
   },
   "outputs": [
    {
     "data": {
      "text/plain": [
       "58517"
      ]
     },
     "execution_count": 4,
     "metadata": {},
     "output_type": "execute_result"
    }
   ],
   "source": [
    "len(titles)"
   ]
  },
  {
   "cell_type": "markdown",
   "metadata": {
    "deletable": true,
    "editable": true
   },
   "source": [
    "### Пример заголовка"
   ]
  },
  {
   "cell_type": "code",
   "execution_count": 5,
   "metadata": {
    "collapsed": false,
    "deletable": true,
    "editable": true
   },
   "outputs": [
    {
     "data": {
      "text/plain": [
       "'рпцз призвала вынести ленина из мавзолея и начать декоммунизацию'"
      ]
     },
     "execution_count": 5,
     "metadata": {},
     "output_type": "execute_result"
    }
   ],
   "source": [
    "titles[0]"
   ]
  },
  {
   "cell_type": "markdown",
   "metadata": {
    "deletable": true,
    "editable": true
   },
   "source": [
    "Сведем все заголовки в один длинный текст и посмотрим, сколько различных символов у нас встречается. Это важно, потому что чем больше символов, тем сложнее сети обучаться (в варианте с Char-RNN). "
   ]
  },
  {
   "cell_type": "code",
   "execution_count": 24,
   "metadata": {
    "collapsed": false,
    "deletable": true,
    "editable": true
   },
   "outputs": [
    {
     "name": "stdout",
     "output_type": "stream",
     "text": [
      "Различных символов: 111\n"
     ]
    }
   ],
   "source": [
    "text = \" \".join(titles)\n",
    "chars = sorted(list(set(text)))\n",
    "\n",
    "print('Различных символов:', len(chars))"
   ]
  },
  {
   "cell_type": "code",
   "execution_count": 25,
   "metadata": {
    "collapsed": false,
    "deletable": true,
    "editable": true
   },
   "outputs": [
    {
     "name": "stdout",
     "output_type": "stream",
     "text": [
      "[' ', '!', '\"', '#', '$', '&', \"'\", '(', ')', '*', '+', ',', '-', '.', '/', '0', '1', '2', '3', '4', '5', '6', '7', '8', '9', ':', '?', '`', 'a', 'b', 'c', 'd', 'e', 'f', 'g', 'h', 'i', 'j', 'k', 'l', 'm', 'n', 'o', 'p', 'q', 'r', 's', 't', 'u', 'v', 'w', 'x', 'y', 'z', '\\xa0', '«', '»', 'á', 'ä', 'ç', 'è', 'é', 'ï', 'ö', 'ø', 'ü', 'š', 'ɢ', '̶', 'а', 'б', 'в', 'г', 'д', 'е', 'ж', 'з', 'и', 'й', 'к', 'л', 'м', 'н', 'о', 'п', 'р', 'с', 'т', 'у', 'ф', 'х', 'ц', 'ч', 'ш', 'щ', 'ъ', 'ы', 'ь', 'э', 'ю', 'я', 'ё', 'є', 'і', '\\u200d', '‑', '–', '—', '’', '…', '№']\n"
     ]
    }
   ],
   "source": [
    "print(chars)"
   ]
  },
  {
   "cell_type": "markdown",
   "metadata": {
    "deletable": true,
    "editable": true
   },
   "source": [
    "Как видно выше, в тексте встречается много необычных (а потому, довольно редких) символов. Чтобы упростить задачу обучения, давайте часть их них удалим, а часть заменим на более часто встречающиеся:"
   ]
  },
  {
   "cell_type": "code",
   "execution_count": 26,
   "metadata": {
    "collapsed": false,
    "deletable": true,
    "editable": true
   },
   "outputs": [],
   "source": [
    "chars_to_remove = ['\\x00', '$', '%', '(', ')', '«', '»', '̆', '̶' ,'є', 'є', 'Є', '\\n','\\\"','\\'', '#', '&', '*', '+', '/', '<', '>', '@', '\\\\', '/', '_', '`', '\\x7f', '\\xa0', '«', '\\xad', '¯', '»', '’', '…', '€', '№', 'ツ', '😂']\n",
    "chars_to_replace = {\n",
    "    '%': \"процентов\", \n",
    "    'š': \"s\", \n",
    "    '\\u2009': \" \", \n",
    "    '\\u200a': \" \", \n",
    "    '\\u200d': \"\", \n",
    "    '\\u200f': \"\", \n",
    "    '\\u2028': \"\",\n",
    "    'î': 'i', \n",
    "    'ø': 'o',\n",
    "    'š': 's', \n",
    "    'á': 'a', \n",
    "    'ä': 'a', \n",
    "    'ç': 'c', \n",
    "    'è': 'e', \n",
    "    'é': 'e', \n",
    "    'ë': 'е', \n",
    "    'ё': 'e',\n",
    "    'î': 'i', \n",
    "    'ï': 'i', \n",
    "    'ô': 'o', \n",
    "    'ö': 'o', \n",
    "    'ø': 'o', \n",
    "    'ü': 'u', \n",
    "    'š': 's', \n",
    "    'ɢ': 'g', \n",
    "    'і': 'i', \n",
    "    'ї': 'i', \n",
    "    'ӧ': 'o', \n",
    "    '‑': '-', \n",
    "    '–': '-', \n",
    "    '—': '-', \n",
    "    '―': '-',\n",
    "    '─': '-'   \n",
    "}"
   ]
  },
  {
   "cell_type": "markdown",
   "metadata": {
    "deletable": true,
    "editable": true
   },
   "source": [
    "В `titles_clear` сохраним очищенные заголовки и добавляем точку в конце заголовка, чтобы было понятно, где конец заголовка:"
   ]
  },
  {
   "cell_type": "code",
   "execution_count": 27,
   "metadata": {
    "collapsed": false,
    "deletable": true,
    "editable": true
   },
   "outputs": [],
   "source": [
    "titles_clear = []\n",
    "\n",
    "for item in titles:\n",
    "\n",
    "    for char in chars_to_remove:\n",
    "        item = item.replace(char,'')\n",
    "\n",
    "    for key, value in chars_to_replace.items():\n",
    "        item = item.replace(key, value)\n",
    "    \n",
    "    titles_clear.append(item + '.')"
   ]
  },
  {
   "cell_type": "markdown",
   "metadata": {
    "deletable": true,
    "editable": true
   },
   "source": [
    "#### Посмотрим, что получилось:"
   ]
  },
  {
   "cell_type": "code",
   "execution_count": 28,
   "metadata": {
    "collapsed": false,
    "deletable": true,
    "editable": true
   },
   "outputs": [
    {
     "name": "stdout",
     "output_type": "stream",
     "text": [
      "Различных символов: 75\n",
      "Средняя длина заголовка: 59.28164465027257\n"
     ]
    }
   ],
   "source": [
    "text = \" \".join(titles_clear)\n",
    "chars = sorted(list(set(text)))\n",
    "\n",
    "print('Различных символов:', len(chars))\n",
    "print('Средняя длина заголовка:', (len(text) / len(titles_clear)))"
   ]
  },
  {
   "cell_type": "markdown",
   "metadata": {
    "deletable": true,
    "editable": true
   },
   "source": [
    "#### Сохраняем результат в файл, добавляя пробел после каждого заголовка для красоты:"
   ]
  },
  {
   "cell_type": "code",
   "execution_count": 29,
   "metadata": {
    "collapsed": true,
    "deletable": true,
    "editable": true
   },
   "outputs": [],
   "source": [
    "res_file = open('./data/headers_' + mode + '.txt', 'w', encoding='utf-8')\n",
    "for item in titles_clear:\n",
    "    res_file.write(\"%s \" % item)"
   ]
  },
  {
   "cell_type": "markdown",
   "metadata": {
    "deletable": true,
    "editable": true
   },
   "source": [
    "# Посмотрим на данные\n",
    "## Начальные слова\n",
    "Интересно посмотреть на статистику начальных слов заголовков. Найдем самые популярные слова:"
   ]
  },
  {
   "cell_type": "code",
   "execution_count": 30,
   "metadata": {
    "collapsed": false,
    "deletable": true,
    "editable": true
   },
   "outputs": [
    {
     "name": "stdout",
     "output_type": "stream",
     "text": [
      "Уникальных слов:  12881\n"
     ]
    }
   ],
   "source": [
    "first_words = {}\n",
    "\n",
    "for item in titles_clear:\n",
    "    word = item.split(' ')[0]\n",
    "    if word in first_words:\n",
    "        first_words[word] += 1\n",
    "    else:\n",
    "        first_words[word] = 1\n",
    "        \n",
    "list_first_words = [{\"word\": key, \"count\": value} for key, value in first_words.items()]\n",
    "list_first_words = sorted(list_first_words, key=lambda k: k['count'], reverse=True) \n",
    "\n",
    "print(\"Уникальных слов: \", len(list_first_words))"
   ]
  },
  {
   "cell_type": "markdown",
   "metadata": {
    "deletable": true,
    "editable": true
   },
   "source": [
    "В принципе, если выбросить стоп-слова, типа \"в\", \"на\" и т.п., можно в общих чертах понять, о чем чаще всего пишут:"
   ]
  },
  {
   "cell_type": "code",
   "execution_count": 31,
   "metadata": {
    "collapsed": false,
    "deletable": true,
    "editable": true
   },
   "outputs": [
    {
     "data": {
      "text/plain": [
       "[{'count': 6746, 'word': 'в'},\n",
       " {'count': 1004, 'word': 'на'},\n",
       " {'count': 822, 'word': 'путин'},\n",
       " {'count': 817, 'word': 'сми'},\n",
       " {'count': 481, 'word': 'глава'},\n",
       " {'count': 460, 'word': 'трамп'},\n",
       " {'count': 390, 'word': 'россия'},\n",
       " {'count': 325, 'word': 'названы'},\n",
       " {'count': 276, 'word': 'умер'},\n",
       " {'count': 270, 'word': 'власти'},\n",
       " {'count': 261, 'word': 'песков'},\n",
       " {'count': 260, 'word': 'суд'},\n",
       " {'count': 254, 'word': 'порошенко'},\n",
       " {'count': 254, 'word': 'бывший'},\n",
       " {'count': 247, 'word': 'сша'},\n",
       " {'count': 242, 'word': 'российские'},\n",
       " {'count': 239, 'word': 'российский'},\n",
       " {'count': 235, 'word': 'у'},\n",
       " {'count': 222, 'word': 'полиция'},\n",
       " {'count': 214, 'word': 'президент'}]"
      ]
     },
     "execution_count": 31,
     "metadata": {},
     "output_type": "execute_result"
    }
   ],
   "source": [
    "list_first_words[:20]"
   ]
  },
  {
   "cell_type": "markdown",
   "metadata": {
    "deletable": true,
    "editable": true
   },
   "source": [
    "Посчитаем такую же статистику для полных заголовков:"
   ]
  },
  {
   "cell_type": "code",
   "execution_count": 32,
   "metadata": {
    "collapsed": false,
    "deletable": true,
    "editable": true
   },
   "outputs": [
    {
     "name": "stdout",
     "output_type": "stream",
     "text": [
      "Уникальных слов: 68649\n"
     ]
    }
   ],
   "source": [
    "word_counts = {}\n",
    "\n",
    "for word in text.split(\" \"):\n",
    "    word = word.replace('.', '')\n",
    "    if word in word_counts:\n",
    "        word_counts[word] += 1\n",
    "    else:\n",
    "        word_counts[word] = 1\n",
    "        \n",
    "list_words = [{\"word\": key, \"count\": value} for key, value in word_counts.items()]\n",
    "list_words = sorted(list_words, key=lambda k: k['count'], reverse=True) \n",
    "\n",
    "print(\"Уникальных слов:\", len(list_words))"
   ]
  },
  {
   "cell_type": "markdown",
   "metadata": {
    "deletable": true,
    "editable": true
   },
   "source": [
    "Ожидаемо, стоп-слова заняли весь топ. И это нормально, т.к. со стоп-слов заголовки начинаются реже, чем со смысловых."
   ]
  },
  {
   "cell_type": "code",
   "execution_count": 33,
   "metadata": {
    "collapsed": false,
    "deletable": true,
    "editable": true
   },
   "outputs": [
    {
     "data": {
      "text/plain": [
       "[{'count': 27762, 'word': 'в'},\n",
       " {'count': 11207, 'word': 'на'},\n",
       " {'count': 6497, 'word': 'с'},\n",
       " {'count': 6082, 'word': 'о'},\n",
       " {'count': 5433, 'word': 'и'},\n",
       " {'count': 3791, 'word': 'за'},\n",
       " {'count': 3175, 'word': 'по'},\n",
       " {'count': 3071, 'word': 'россии'},\n",
       " {'count': 2780, 'word': 'из'},\n",
       " {'count': 2189, 'word': 'сша'},\n",
       " {'count': 2074, 'word': 'для'},\n",
       " {'count': 1919, 'word': 'от'},\n",
       " {'count': 1570, 'word': 'из-за'},\n",
       " {'count': 1540, 'word': 'к'},\n",
       " {'count': 1249, 'word': 'об'},\n",
       " {'count': 1082, 'word': 'у'},\n",
       " {'count': 1058, 'word': 'после'},\n",
       " {'count': 967, 'word': 'рассказал'},\n",
       " {'count': 953, 'word': 'назвал'},\n",
       " {'count': 948, 'word': 'сми'}]"
      ]
     },
     "execution_count": 33,
     "metadata": {},
     "output_type": "execute_result"
    }
   ],
   "source": [
    "list_words[:20]"
   ]
  },
  {
   "cell_type": "markdown",
   "metadata": {
    "deletable": true,
    "editable": true
   },
   "source": [
    "## Нормализация\n",
    "В получившемся списке различные формы одного слова по понятным причинам считаются как разные слова. Чтобы исправить это и посмотреть, повлияет ли это на результаты обучения, нормализуем слова (также для этого процесса можно встретить термин \"лемматизация\"), используя библиотеку [pymorphy2](https://pymorphy2.readthedocs.io/en/latest/). \n",
    "\n",
    "Для начала отделим знаки пунтктуации от предыдущих слов пробелами, т.к. `pymorphy` считает слова \"машина\" и \"машина.\" (с точкой) разными, и для второго случая она не сможет найти нормальную форму. Также удалим все двойные пробелы, если такие появятся."
   ]
  },
  {
   "cell_type": "code",
   "execution_count": 34,
   "metadata": {
    "collapsed": true,
    "deletable": true,
    "editable": true
   },
   "outputs": [],
   "source": [
    "chars_to_replace_for_norm = {\n",
    "    '!': ' ! ',\n",
    "    ',': ' , ',\n",
    "    '-': ' - ',\n",
    "    '. ': ' . ',\n",
    "    '  ': ' '\n",
    "}\n",
    "\n",
    "for key, value in chars_to_replace_for_norm.items():\n",
    "    text = text.replace(key, value)"
   ]
  },
  {
   "cell_type": "markdown",
   "metadata": {
    "deletable": true,
    "editable": true
   },
   "source": [
    "Проходимся по тексту и приводим каждое слово к наиболее вероятной по мнению `pymorphy` нормальной форме (может занять довольно много времени, если текст длинный):"
   ]
  },
  {
   "cell_type": "code",
   "execution_count": 37,
   "metadata": {
    "collapsed": false,
    "deletable": true,
    "editable": true
   },
   "outputs": [],
   "source": [
    "import pymorphy2\n",
    "\n",
    "morph = pymorphy2.MorphAnalyzer()\n",
    "text_norm = []\n",
    "text_split = text.split(' ')\n",
    "\n",
    "for i in range(len(text_split)):\n",
    "    word = text_split[i].replace('. ', '')\n",
    "    norm = morph.parse(word)[0].normal_form\n",
    "    text_norm.append(norm)"
   ]
  },
  {
   "cell_type": "markdown",
   "metadata": {
    "deletable": true,
    "editable": true
   },
   "source": [
    "Посмотрим, что получилось:"
   ]
  },
  {
   "cell_type": "code",
   "execution_count": 38,
   "metadata": {
    "collapsed": false,
    "deletable": true,
    "editable": true
   },
   "outputs": [
    {
     "name": "stdout",
     "output_type": "stream",
     "text": [
      "['рпцз', 'призвать', 'вынести', 'ленин', 'из', 'мавзолей', 'и', 'начать', 'декоммунизация', '.', 'найти', 'тело', 'пропасть', 'моряк', 'с', 'американский', 'эсминец', '.', 'полиция', 'мэриленд', 'арестовать', 'подозревать', 'в', 'убийство', 'россиянин', 'зиберов', '.', 'концерт', 'рэпер', 'баста', 'в', 'одесса', 'отменить', 'после', 'угроза', 'украинский', 'националист', '.', 'более', '200', 'тысяча', 'человек', 'выступить', 'против', 'презумпция', 'доверие', 'к', 'полицейский', '.', 'мутко', 'раскритиковать', 'газзаев', 'за', 'ответ', 'путин', 'в', 'время', 'прямая', 'линия', '.', 'у', 'я', 'не', 'железный', 'яйцо', '.', 'ковалев', 'прокомментировать', 'два', 'подряд', 'поражение', 'от', 'уорд', '.', 'в', 'фсвтс', 'прокомментировать', 'поставка', 'корабельный', 'вертолёт', 'ка', '-', '52к', 'в', 'египет', '.', 'украинский', 'националист', 'отобрать', 'флаг', 'лгбт', 'у', 'участник', 'гей', '-', 'парад', 'в', 'киев', '.', 'по']\n"
     ]
    }
   ],
   "source": [
    "print(text_norm[:100])"
   ]
  },
  {
   "cell_type": "markdown",
   "metadata": {
    "deletable": true,
    "editable": true
   },
   "source": [
    "Выглядит неплохо. Посчитаем обновленную статистику:"
   ]
  },
  {
   "cell_type": "code",
   "execution_count": 39,
   "metadata": {
    "collapsed": false,
    "deletable": true,
    "editable": true
   },
   "outputs": [
    {
     "name": "stdout",
     "output_type": "stream",
     "text": [
      "Уникальных слов: 29871\n"
     ]
    }
   ],
   "source": [
    "word_norm_counts = {}\n",
    "\n",
    "for word in text_norm:\n",
    "    if word in word_norm_counts:\n",
    "        word_norm_counts[word] += 1\n",
    "    else:\n",
    "        word_norm_counts[word] = 1\n",
    "        \n",
    "list_words_norm = [{\"word\": key, \"count\": value} for key, value in word_norm_counts.items()]\n",
    "list_words_norm = sorted(list_words_norm, key=lambda k: k['count'], reverse=True) \n",
    "\n",
    "print(\"Уникальных слов:\", len(list_words_norm))"
   ]
  },
  {
   "cell_type": "markdown",
   "metadata": {
    "collapsed": true,
    "deletable": true,
    "editable": true
   },
   "source": [
    "Уникальных слов теперь более чем в 2 раза меньше! А топ слов выглядит так:"
   ]
  },
  {
   "cell_type": "code",
   "execution_count": 40,
   "metadata": {
    "collapsed": false,
    "deletable": true,
    "editable": true
   },
   "outputs": [
    {
     "data": {
      "text/plain": [
       "[{'count': 58796, 'word': '.'},\n",
       " {'count': 28671, 'word': 'в'},\n",
       " {'count': 11271, 'word': 'на'},\n",
       " {'count': 7772, 'word': '-'},\n",
       " {'count': 7337, 'word': 'о'},\n",
       " {'count': 7026, 'word': 'с'},\n",
       " {'count': 5437, 'word': 'и'},\n",
       " {'count': 5361, 'word': 'за'},\n",
       " {'count': 4381, 'word': 'из'},\n",
       " {'count': 4308, 'word': 'россия'},\n",
       " {'count': 3242, 'word': 'по'},\n",
       " {'count': 2520, 'word': 'назвать'},\n",
       " {'count': 2222, 'word': 'российский'},\n",
       " {'count': 2194, 'word': 'сша'},\n",
       " {'count': 2074, 'word': 'для'},\n",
       " {'count': 1919, 'word': 'от'},\n",
       " {'count': 1753, 'word': 'рассказать'},\n",
       " {'count': 1682, 'word': 'трамп'},\n",
       " {'count': 1569, 'word': 'к'},\n",
       " {'count': 1542, 'word': 'путин'}]"
      ]
     },
     "execution_count": 40,
     "metadata": {},
     "output_type": "execute_result"
    }
   ],
   "source": [
    "list_words_norm[:20]"
   ]
  },
  {
   "cell_type": "markdown",
   "metadata": {
    "deletable": true,
    "editable": true
   },
   "source": [
    "Собираем текст обратно, возвращаем знаки пунктуации на место и удаляем букву \"ё\", которую повставлял `pymorphy`:"
   ]
  },
  {
   "cell_type": "code",
   "execution_count": 41,
   "metadata": {
    "collapsed": true,
    "deletable": true,
    "editable": true
   },
   "outputs": [],
   "source": [
    "text_norm_joined = \" \".join(text_norm)\n",
    "chars_to_replace = {\n",
    "    ' - ': '-', \n",
    "    ' !': '!',\n",
    "    ' ,': ',',\n",
    "    ' .': '.',\n",
    "    'ё' : 'е'\n",
    "}\n",
    "for key, value in chars_to_replace.items():\n",
    "    text_norm_joined = text_norm_joined.replace(key, value)"
   ]
  },
  {
   "cell_type": "markdown",
   "metadata": {
    "deletable": true,
    "editable": true
   },
   "source": [
    "Сохраняем вариант текста с нормализованными словами:"
   ]
  },
  {
   "cell_type": "code",
   "execution_count": 42,
   "metadata": {
    "collapsed": false,
    "deletable": true,
    "editable": true
   },
   "outputs": [
    {
     "data": {
      "text/plain": [
       "3380267"
      ]
     },
     "execution_count": 42,
     "metadata": {},
     "output_type": "execute_result"
    }
   ],
   "source": [
    "res_file = open('./data/headers_' + mode + '_norm.txt', 'w', encoding='utf-8')\n",
    "res_file.write(text_norm_joined)"
   ]
  }
 ],
 "metadata": {
  "kernelspec": {
   "display_name": "Python 3",
   "language": "python",
   "name": "python3"
  },
  "language_info": {
   "codemirror_mode": {
    "name": "ipython",
    "version": 3
   },
   "file_extension": ".py",
   "mimetype": "text/x-python",
   "name": "python",
   "nbconvert_exporter": "python",
   "pygments_lexer": "ipython3",
   "version": "3.5.3"
  }
 },
 "nbformat": 4,
 "nbformat_minor": 2
}
